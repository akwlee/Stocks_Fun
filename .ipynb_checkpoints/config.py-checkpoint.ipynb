{
 "cells": [
  {
   "cell_type": "code",
   "execution_count": null,
   "metadata": {},
   "outputs": [],
   "source": [
    "api_key = \"jXbFqYl8BSv9o0vcPxeEDmOR6\"\n",
    "api_secret = \"UNnXZSd8u1ifNQkSdqsoQ4fSETuE28zxRXHiosrCMXpU8kmKcj\"\n",
    "bearer = \"AAAAAAAAAAAAAAAAAAAAAB2oKgEAAAAAG5bdD36aFCHU9x%2BtCTvrOaXf84k%3DQpzO4Orsw7TZt2v4V3UbQhEaJGllueYfkqIYr37y33o7McPMqd\""
   ]
  }
 ],
 "metadata": {
  "kernelspec": {
   "display_name": "Python 3",
   "language": "python",
   "name": "python3"
  },
  "language_info": {
   "codemirror_mode": {
    "name": "ipython",
    "version": 3
   },
   "file_extension": ".py",
   "mimetype": "text/x-python",
   "name": "python",
   "nbconvert_exporter": "python",
   "pygments_lexer": "ipython3",
   "version": "3.7.6"
  }
 },
 "nbformat": 4,
 "nbformat_minor": 4
}
