{
 "cells": [
  {
   "cell_type": "code",
   "execution_count": 24,
   "metadata": {},
   "outputs": [],
   "source": [
    "import sys\n",
    "import operator\n",
    "import requests\n",
    "import json\n",
    "import twitter\n",
    "import config as cfg\n",
    "import pandas as pd\n",
    "\n",
    "api_key = cfg.api_key\n",
    "api_secret = cfg.api_secret\n",
    "bearer = cfg.bearer\n",
    "token = cfg.access_token\n",
    "token_secret = cfg.access_secret"
   ]
  },
  {
   "cell_type": "code",
   "execution_count": 18,
   "metadata": {},
   "outputs": [],
   "source": [
    "# create Twitter object\n",
    "api = twitter.Api(consumer_key = api_key,\n",
    "                 consumer_secret = api_secret,\n",
    "                 access_token_key = token,\n",
    "                 access_token_secret = token_secret)"
   ]
  },
  {
   "cell_type": "code",
   "execution_count": 42,
   "metadata": {},
   "outputs": [],
   "source": [
    "tweets = api.GetSearch(term = 'nio',count = 2)"
   ]
  },
  {
   "cell_type": "code",
   "execution_count": 47,
   "metadata": {},
   "outputs": [
    {
     "name": "stdout",
     "output_type": "stream",
     "text": [
      "Our #NIOPower Swap stations provide an experience beyond refueling and peace of mind throughout your journey.… https://t.co/9B6A21E3rd\n",
      "1338556315258429440\n",
      "en\n",
      "109\n",
      "Excited to have NIO recognized by @Frost_Sullivan as the top growth and innovation company in the 2020 Asia-Pacific… https://t.co/qQIOOT8GzY\n",
      "1338906717132746753\n",
      "en\n",
      "56\n"
     ]
    }
   ],
   "source": [
    "for tweet in tweets:\n",
    "    print(tweet.text)\n",
    "    print(tweet.id)\n",
    "    print(tweet.lang)\n",
    "    print(tweet.retweet_count)"
   ]
  },
  {
   "cell_type": "code",
   "execution_count": null,
   "metadata": {},
   "outputs": [],
   "source": []
  }
 ],
 "metadata": {
  "kernelspec": {
   "display_name": "Python 3",
   "language": "python",
   "name": "python3"
  },
  "language_info": {
   "codemirror_mode": {
    "name": "ipython",
    "version": 3
   },
   "file_extension": ".py",
   "mimetype": "text/x-python",
   "name": "python",
   "nbconvert_exporter": "python",
   "pygments_lexer": "ipython3",
   "version": "3.7.6"
  }
 },
 "nbformat": 4,
 "nbformat_minor": 4
}
